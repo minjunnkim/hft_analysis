{
 "cells": [
  {
   "cell_type": "markdown",
   "metadata": {},
   "source": [
    "## Model Testing with Different Company's Data\n",
    "\n",
    "### Fetch Data for a Different Company"
   ]
  },
  {
   "cell_type": "code",
   "execution_count": 6,
   "metadata": {},
   "outputs": [],
   "source": [
    "import pandas as pd\n",
    "import matplotlib.pyplot as plt\n",
    "import seaborn as sns\n",
    "from alpha_vantage.timeseries import TimeSeries\n",
    "from sklearn.model_selection import train_test_split\n",
    "from sklearn.linear_model import LinearRegression\n",
    "from sklearn.tree import DecisionTreeRegressor\n",
    "from sklearn.ensemble import RandomForestRegressor, GradientBoostingRegressor\n",
    "from sklearn.metrics import mean_squared_error, r2_score\n",
    "import os\n",
    "\n",
    "# Function to fetch intraday data\n",
    "def fetch_intraday_data(symbol, interval='1min', outputsize='full'):\n",
    "    api_key = 'YOUR_API_KEY'  # Replace with your Alpha Vantage API key\n",
    "    ts = TimeSeries(key=api_key, output_format='pandas')\n",
    "    data, meta_data = ts.get_intraday(symbol=symbol, interval=interval, outputsize=outputsize)\n",
    "    return data\n",
    "\n",
    "# Fetch data for Microsoft (MSFT)\n",
    "symbol_new = 'MSFT'\n",
    "data_new = fetch_intraday_data(symbol_new)\n",
    "\n",
    "# Save data to CSV\n",
    "if not os.path.exists('../data'):\n",
    "    os.makedirs('../data')\n",
    "data_new.to_csv(f'../data/{symbol_new}_intraday.csv')"
   ]
  },
  {
   "cell_type": "markdown",
   "metadata": {},
   "source": [
    "### Prepare the New Data"
   ]
  },
  {
   "cell_type": "code",
   "execution_count": 7,
   "metadata": {},
   "outputs": [],
   "source": [
    "# Load the data for the new company\n",
    "data_new = pd.read_csv(f'../data/{symbol_new}_intraday.csv')\n",
    "\n",
    "# Convert the date column to datetime\n",
    "data_new['date'] = pd.to_datetime(data_new['date'])\n",
    "data_new.set_index('date', inplace=True)\n",
    "\n",
    "# Normalize the close prices\n",
    "data_new['close_normalized'] = (data_new['4. close'] - data_new['4. close'].mean()) / data_new['4. close'].std()\n",
    "\n",
    "# Create lagged features\n",
    "data_new['close_lagged_1'] = data_new['4. close'].shift(1)\n",
    "data_new['close_lagged_2'] = data_new['4. close'].shift(2)\n",
    "data_new['close_lagged_3'] = data_new['4. close'].shift(3)\n",
    "\n",
    "# Drop rows with missing values created by lagging\n",
    "data_new.dropna(inplace=True)\n",
    "\n",
    "# Select features and target\n",
    "features_new = ['1. open', '2. high', '3. low', '4. close', '5. volume', 'close_lagged_1', 'close_lagged_2', 'close_lagged_3']\n",
    "target_new = '4. close'\n",
    "\n",
    "X_new = data_new[features_new]\n",
    "y_new = data_new[target_new]"
   ]
  },
  {
   "cell_type": "markdown",
   "metadata": {},
   "source": [
    "### Test the Models on the New Data"
   ]
  },
  {
   "cell_type": "code",
   "execution_count": null,
   "metadata": {},
   "outputs": [],
   "source": [
    "# Predict with the Linear Regression model\n",
    "y_pred_new_linear = linear_model.predict(X_new)\n",
    "mse_new_linear = mean_squared_error(y_new, y_pred_new_linear)\n",
    "r2_new_linear = r2_score(y_new, y_pred_new_linear)\n",
    "\n",
    "print(f\"Linear Regression (MSFT) - Mean Squared Error: {mse_new_linear}\")\n",
    "print(f\"Linear Regression (MSFT) - R^2 Score: {r2_new_linear}\")\n",
    "\n",
    "plt.figure(figsize=(14, 7))\n",
    "plt.plot(y_new.index, y_new, label='Actual')\n",
    "plt.plot(y_new.index, y_pred_new_linear, label='Predicted', alpha=0.7)\n",
    "plt.title('Linear Regression: Actual vs Predicted (MSFT)')\n",
    "plt.xlabel('Time')\n",
    "plt.ylabel('Close Price')\n",
    "plt.legend()\n",
    "plt.show()\n",
    "\n",
    "# Predict with the Decision Tree model\n",
    "y_pred_new_tree = tree_model.predict(X_new)\n",
    "mse_new_tree = mean_squared_error(y_new, y_pred_new_tree)\n",
    "r2_new_tree = r2_score(y_new, y_pred_new_tree)\n",
    "\n",
    "print(f\"Decision Tree (MSFT) - Mean Squared Error: {mse_new_tree}\")\n",
    "print(f\"Decision Tree (MSFT) - R^2 Score: {r2_new_tree}\")\n",
    "\n",
    "plt.figure(figsize=(14, 7))\n",
    "plt.plot(y_new.index, y_new, label='Actual')\n",
    "plt.plot(y_new.index, y_pred_new_tree, label='Predicted (Tree)', alpha=0.7)\n",
    "plt.title('Decision Tree: Actual vs Predicted (MSFT)')\n",
    "plt.xlabel('Time')\n",
    "plt.ylabel('Close Price')\n",
    "plt.legend()\n",
    "plt.show()\n",
    "\n",
    "# Predict with the Random Forest model\n",
    "y_pred_new_forest = forest_model.predict(X_new)\n",
    "mse_new_forest = mean_squared_error(y_new, y_pred_new_forest)\n",
    "r2_new_forest = r2_score(y_new, y_pred_new_forest)\n",
    "\n",
    "print(f\"Random Forest (MSFT) - Mean Squared Error: {mse_new_forest}\")\n",
    "print(f\"Random Forest (MSFT) - R^2 Score: {r2_new_forest}\")\n",
    "\n",
    "plt.figure(figsize=(14, 7))\n",
    "plt.plot(y_new.index, y_new, label='Actual')\n",
    "plt.plot(y_new.index, y_pred_new_forest, label='Predicted (Forest)', alpha=0.7)\n",
    "plt.title('Random Forest: Actual vs Predicted (MSFT)')\n",
    "plt.xlabel('Time')\n",
    "plt.ylabel('Close Price')\n",
    "plt.legend()\n",
    "plt.show()\n",
    "\n",
    "# Predict with the Gradient Boosting model\n",
    "y_pred_new_gb = gb_model.predict(X_new)\n",
    "mse_new_gb = mean_squared_error(y_new, y_pred_new_gb)\n",
    "r2_new_gb = r2_score(y_new, y_pred_new_gb)\n",
    "\n",
    "print(f\"Gradient Boosting (MSFT) - Mean Squared Error: {mse_new_gb}\")\n",
    "print(f\"Gradient Boosting (MSFT) - R^2 Score: {r2_new_gb}\")\n",
    "\n",
    "plt.figure(figsize=(14, 7))\n",
    "plt.plot(y_new.index, y_new, label='Actual')\n",
    "plt.plot(y_new.index, y_pred_new_gb, label='Predicted (GB)', alpha=0.7)\n",
    "plt.title('Gradient Boosting: Actual vs Predicted (MSFT)')\n",
    "plt.xlabel('Time')\n",
    "plt.ylabel('Close Price')\n",
    "plt.legend()\n",
    "plt.show()"
   ]
  },
  {
   "cell_type": "markdown",
   "metadata": {},
   "source": []
  }
 ],
 "metadata": {
  "kernelspec": {
   "display_name": ".venv",
   "language": "python",
   "name": "python3"
  },
  "language_info": {
   "codemirror_mode": {
    "name": "ipython",
    "version": 3
   },
   "file_extension": ".py",
   "mimetype": "text/x-python",
   "name": "python",
   "nbconvert_exporter": "python",
   "pygments_lexer": "ipython3",
   "version": "3.11.9"
  }
 },
 "nbformat": 4,
 "nbformat_minor": 2
}
